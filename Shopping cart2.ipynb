{
 "cells": [
  {
   "cell_type": "code",
   "execution_count": 87,
   "id": "8a29ef10",
   "metadata": {},
   "outputs": [
    {
     "name": "stdout",
     "output_type": "stream",
     "text": [
      "Name on the order?lo\n",
      "Start Shopping? Y/Ny\n",
      "Add your items.gum\n",
      "Add more? Y/Ny\n",
      "add items.gun\n",
      "Remove item(s)?gum\n",
      "Show item(s)?y\n",
      "['gum']\n",
      "Time to check out!\n"
     ]
    }
   ],
   "source": [
    "def cart():\n",
    "    lst = []\n",
    "    customer_name = input('Name on the order?').title()\n",
    "    customers_lst = customer_name\n",
    "    while True:\n",
    "        response = input('Start Shopping? Y/N').lower()\n",
    "        if response == 'n':\n",
    "            break\n",
    "        items = input('Add your items.')\n",
    "        lst.append(items)\n",
    "        if items == 'quit':\n",
    "            break\n",
    "        add = input('Add more? Y/N').lower()\n",
    "        if add == 'y':\n",
    "            add = input('add items.')\n",
    "        lst.append(items)\n",
    "        if add == 'quit':\n",
    "            break\n",
    "#delete only deletes very last item added\n",
    "        delete = input('Remove item(s)?')\n",
    "        if delete in lst:\n",
    "            lst.remove(delete)\n",
    "        else:\n",
    "            print('unable to find')\n",
    "\n",
    "        show = input('Show item(s)?')\n",
    "        if show =='n':\n",
    "            print('Time to check out!')\n",
    "            break\n",
    "        if show =='y':\n",
    "            print(lst)\n",
    "            print('Time to check out!')\n",
    "            break\n",
    "            \n",
    "cart()"
   ]
  },
  {
   "cell_type": "code",
   "execution_count": null,
   "id": "2a8dcbda",
   "metadata": {},
   "outputs": [],
   "source": []
  },
  {
   "cell_type": "code",
   "execution_count": null,
   "id": "872304e7",
   "metadata": {},
   "outputs": [],
   "source": []
  },
  {
   "cell_type": "code",
   "execution_count": null,
   "id": "78f0f2d3",
   "metadata": {},
   "outputs": [],
   "source": []
  },
  {
   "cell_type": "code",
   "execution_count": null,
   "id": "6150b240",
   "metadata": {},
   "outputs": [],
   "source": []
  }
 ],
 "metadata": {
  "kernelspec": {
   "display_name": "Python 3",
   "language": "python",
   "name": "python3"
  },
  "language_info": {
   "codemirror_mode": {
    "name": "ipython",
    "version": 3
   },
   "file_extension": ".py",
   "mimetype": "text/x-python",
   "name": "python",
   "nbconvert_exporter": "python",
   "pygments_lexer": "ipython3",
   "version": "3.8.8"
  }
 },
 "nbformat": 4,
 "nbformat_minor": 5
}
